{
 "cells": [
  {
   "cell_type": "code",
   "execution_count": 7,
   "metadata": {},
   "outputs": [
    {
     "name": "stderr",
     "output_type": "stream",
     "text": [
      "C:\\Users\\pufks\\Anaconda3\\lib\\site-packages\\ipykernel_launcher.py:73: SettingWithCopyWarning: \n",
      "A value is trying to be set on a copy of a slice from a DataFrame.\n",
      "Try using .loc[row_indexer,col_indexer] = value instead\n",
      "\n",
      "See the caveats in the documentation: https://pandas.pydata.org/pandas-docs/stable/user_guide/indexing.html#returning-a-view-versus-a-copy\n",
      "C:\\Users\\pufks\\Anaconda3\\lib\\site-packages\\ipykernel_launcher.py:87: SettingWithCopyWarning: \n",
      "A value is trying to be set on a copy of a slice from a DataFrame.\n",
      "Try using .loc[row_indexer,col_indexer] = value instead\n",
      "\n",
      "See the caveats in the documentation: https://pandas.pydata.org/pandas-docs/stable/user_guide/indexing.html#returning-a-view-versus-a-copy\n",
      "C:\\Users\\pufks\\Anaconda3\\lib\\site-packages\\ipykernel_launcher.py:54: SettingWithCopyWarning: \n",
      "A value is trying to be set on a copy of a slice from a DataFrame.\n",
      "Try using .loc[row_indexer,col_indexer] = value instead\n",
      "\n",
      "See the caveats in the documentation: https://pandas.pydata.org/pandas-docs/stable/user_guide/indexing.html#returning-a-view-versus-a-copy\n",
      "C:\\Users\\pufks\\Anaconda3\\lib\\site-packages\\ipykernel_launcher.py:58: SettingWithCopyWarning: \n",
      "A value is trying to be set on a copy of a slice from a DataFrame.\n",
      "Try using .loc[row_indexer,col_indexer] = value instead\n",
      "\n",
      "See the caveats in the documentation: https://pandas.pydata.org/pandas-docs/stable/user_guide/indexing.html#returning-a-view-versus-a-copy\n",
      "C:\\Users\\pufks\\Anaconda3\\lib\\site-packages\\ipykernel_launcher.py:71: SettingWithCopyWarning: \n",
      "A value is trying to be set on a copy of a slice from a DataFrame.\n",
      "Try using .loc[row_indexer,col_indexer] = value instead\n",
      "\n",
      "See the caveats in the documentation: https://pandas.pydata.org/pandas-docs/stable/user_guide/indexing.html#returning-a-view-versus-a-copy\n",
      "C:\\Users\\pufks\\Anaconda3\\lib\\site-packages\\ipykernel_launcher.py:83: SettingWithCopyWarning: \n",
      "A value is trying to be set on a copy of a slice from a DataFrame.\n",
      "Try using .loc[row_indexer,col_indexer] = value instead\n",
      "\n",
      "See the caveats in the documentation: https://pandas.pydata.org/pandas-docs/stable/user_guide/indexing.html#returning-a-view-versus-a-copy\n"
     ]
    }
   ],
   "source": [
    "import pandas as pd\n",
    "from marcap_utils import marcap_data\n",
    "\n",
    "Ticker = pd.read_csv('./data/MAN_Ticker.csv', dtype={'코드':str}, encoding='euc-kr')\n",
    "Ticker = Ticker.iloc[:, 1:]\n",
    "dtypes={'Close':float, 'Changes':float, 'ChagesRatio':float, 'Open':float, 'High':float, 'Low':float,\n",
    "           'Volume':float, 'Amount':float, 'Marcap':float}\n",
    "KOSPI = pd.read_csv('./data/kospi.csv', dtype=dtypes, parse_dates=['Date'], thousands=',')\n",
    "\n",
    "df_fs = pd.read_csv('./data/Man_2003Y.csv', dtype={'코드':str}, encoding='euc-kr')\n",
    "df_fs = df_fs.iloc[:, 1:]\n",
    "df_fs.set_index('Date', inplace=True)\n",
    "\n",
    "mf_count = 20 #마법공식으로 몇 종목을 선택할 지 결정하는 변수\n",
    "seed_money = 20000000 #시뮬레이션을 위한 초기 자금\n",
    "df_marcap = marcap_data('2004-03-31')\n",
    "price_marcap = df_marcap.loc[:,['Code', 'Marcap']]\n",
    "price_marcap['Marcap'] = price_marcap['Marcap'] / 100000000  #시가총액을 억단위로 변경\n",
    "\n",
    "df_target = df_fs.loc['2003'][['코드', '지배주주순이익', '법인세비용', '이자비용', '부채총계', '현금및현금성자산', '유동자산', '유동부채', '비유동자산', '감가상각비']]\n",
    "df_target = pd.merge(df_target, price_marcap, left_on='코드', right_on='Code')\n",
    "df_target = df_target.drop(columns=['Code'])\n",
    "df_target['EXCASH1'] = df_target['유동부채'] - df_target['유동자산'] + df_target['현금및현금성자산']\n",
    "df_target.loc[df_target['EXCASH1'] < 0, 'EXCASH1'] = 0\n",
    "df_target['EBIT'] = df_target['지배주주순이익'] + df_target['법인세비용'] + df_target['이자비용']\n",
    "df_target['IC'] = df_target['유동자산'] - df_target['유동부채'] + df_target['비유동자산'] - df_target['감가상각비']\n",
    "df_target['EV'] = df_target['Marcap'] + df_target['부채총계'] - df_target['현금및현금성자산'] + df_target['EXCASH1']\n",
    "df_target['EY'] = df_target['EBIT'] / df_target['EV']\n",
    "df_target['ROC'] = df_target['EBIT'] / df_target['IC']\n",
    "df_target['RANK_EY'] = df_target['EY'].rank(ascending=False)\n",
    "df_target['RANK_ROC'] = df_target['ROC'].rank(ascending=False)\n",
    "df_target['RANK_TOT'] = df_target['RANK_EY'] + df_target['RANK_ROC']\n",
    "df_target = pd.merge(df_target, Ticker, left_on='코드', right_on='코드')\n",
    "df_last = df_target.sort_values(by=['RANK_TOT']).head(mf_count)\n",
    "df_last = df_last.set_index('코드')\n",
    "\n",
    "moneyperstock = seed_money / mf_count #종목별 투자액\n",
    "cash = 0 # 초기 현금잔고\n",
    "mf_list = df_last.index.tolist() # 선택된 종목의 코드를 리스트\n",
    "final_marcap = marcap_data('2004-04-01', '2005-03-31')\n",
    "KOSPI = KOSPI[('2004-04-01' <= KOSPI['Date']) & (KOSPI['Date'] <= '2005-03-31')]\n",
    "final_marcap = final_marcap[final_marcap['Code'].isin(mf_list)] #선정됙 종목의 marcap 정보만 추출\n",
    "df_yield = pd.DataFrame(columns=mf_list)    # 종목 코드를 column 이름으로 하는 dataframe 생성. 일자별 수익률 변화 체크\n",
    "df_yield['Date'] = KOSPI['Date']\n",
    "df_yield = df_yield.set_index('Date')\n",
    "df_asset = pd.Series(index=mf_list, dtype=float)    # 종목별 보유수량 체크\n",
    "balance = 0 #자산잔고\n",
    "\n",
    "for stock in mf_list:\n",
    "        tmp_df = final_marcap[final_marcap['Code'] == stock]    #주가 정보를 포함하는 df\n",
    "        old_stocks = tmp_df.loc[tmp_df.index[0], 'Stocks']\n",
    "        latest_stocks = tmp_df.loc[tmp_df.index[-1], 'Stocks']\n",
    "        if old_stocks == latest_stocks:     #연간 주식수의 변화가 없으면 수정주가는 기존 주가를 사용\n",
    "            tmp_df['Adj Close'] = tmp_df['Close']\n",
    "            start_price = tmp_df.loc[tmp_df.index[0], 'Open']\n",
    "            df_asset[stock] = moneyperstock * 0.99985 // start_price\n",
    "            cash = cash + (moneyperstock - df_asset[stock] * start_price * 1.00015)\n",
    "            tmp_df['Yield'] = tmp_df['Close'] * df_asset[stock]\n",
    "            df_yield[stock] = tmp_df['Yield']\n",
    "            balance = balance + tmp_df.loc[tmp_df.index[-1], 'Close'] * df_asset[stock] * 0.99685\n",
    "        else:           #연간 주식수 변화가 있으면 유상증자와 무상증자에 따라 수정주가 사용이 바뀜\n",
    "            change_count = 0\n",
    "            for k in range(len(tmp_df) - 1):\n",
    "                if tmp_df.loc[tmp_df.index[k], 'Stocks'] != tmp_df.loc[tmp_df.index[k+1], 'Stocks']:    #주식수의 변동이 있으면\n",
    "                    before_mar = tmp_df.loc[tmp_df.index[k], 'Marcap'] * (1 + tmp_df.loc[tmp_df.index[k+1], 'ChagesRatio'] / 100)\n",
    "                    after_mar = tmp_df.loc[tmp_df.index[k+1], 'Marcap']\n",
    "                    if change_count == 0:\n",
    "                        if (after_mar * 0.99 < before_mar) & (before_mar < after_mar * 1.01):   #무상증자는 수정주가 계산이 필요함\n",
    "                            start_price = tmp_df.loc[tmp_df.index[0], 'Open'] * tmp_df.loc[tmp_df.index[0], 'Stocks'] / tmp_df.loc[tmp_df.index[k+1], 'Stocks']\n",
    "                            latest_price = tmp_df.loc[tmp_df.index[k+1], 'Stocks']\n",
    "                            tmp_df['Adj Close'] = tmp_df['Close'] * (tmp_df['Stocks'] / latest_price)  #수정종가\n",
    "                        else:   #유상증자는 수정주가 계산 필요 없음\n",
    "                            tmp_df['Adj Close'] = tmp_df['Close']\n",
    "                            start_price = tmp_df.loc[tmp_df.index[0], 'Open']\n",
    "                        change_count += 1\n",
    "                    else:   # 주식수 변동이 여러번 있으면 수정주가가 기존 종가를 계속 사용할 수 없으므로 기존 종가 대신 기존 수정주가를 이용해 다시 계산\n",
    "                        if (after_mar * 0.99 < before_mar) & (before_mar < after_mar * 1.01):\n",
    "                            start_price = start_price * tmp_df.loc[tmp_df.index[k], 'Stocks'] / tmp_df.loc[tmp_df.index[k+1], 'Stocks']\n",
    "                            atest_price = tmp_df.loc[tmp_df.index[k+1], 'Stocks']\n",
    "                            tmp_df['Adj Close'] = tmp_df['Adj Close'] * (tmp_df['Stocks'] / latest_price)  #수정종가\n",
    "                        else:\n",
    "                            start_price = start_price\n",
    "                            tmp_df['Adj Close'] = tmp_df['Adj Close']\n",
    "                        change_count += 1  \n",
    "            df_asset[stock] = moneyperstock * 0.99985 // start_price\n",
    "            cash = cash + (moneyperstock - df_asset[stock] * start_price * 1.00015)\n",
    "            tmp_df['Yield'] = tmp_df['Adj Close'] * df_asset[stock]\n",
    "            df_yield[stock] = tmp_df['Yield']\n",
    "            balance = balance + tmp_df.loc[tmp_df.index[-1], 'Adj Close'] * df_asset[stock] * 0.99685\n",
    "            #종목별로 수정주가를 계산하고 첫날을 기준으로 누적수익률을 체크\n",
    "df_yield = df_yield.fillna(method='ffill')\n",
    "df_yield['sum'] = df_yield.sum(axis=1)\n",
    "df_yield['sum'] = df_yield['sum'] + cash\n",
    "\n",
    "seed_money = balance + cash"
   ]
  },
  {
   "cell_type": "code",
   "execution_count": 8,
   "metadata": {},
   "outputs": [
    {
     "data": {
      "text/plain": [
       "33870174.348462105"
      ]
     },
     "execution_count": 8,
     "metadata": {},
     "output_type": "execute_result"
    }
   ],
   "source": [
    "seed_money"
   ]
  },
  {
   "cell_type": "code",
   "execution_count": 9,
   "metadata": {},
   "outputs": [
    {
     "data": {
      "text/plain": [
       "<matplotlib.axes._subplots.AxesSubplot at 0x2924bb23648>"
      ]
     },
     "execution_count": 9,
     "metadata": {},
     "output_type": "execute_result"
    },
    {
     "data": {
      "image/png": "[encoded data removed]",
      "text/plain": [
       "<Figure size 432x288 with 1 Axes>"
      ]
     },
     "metadata": {
      "needs_background": "light"
     },
     "output_type": "display_data"
    }
   ],
   "source": [
    "df_yield['sum'].plot()"
   ]
  },
  {
   "cell_type": "markdown",
   "metadata": {},
   "source": [
    "2,000만원으로 2004-04-01 시가에 20종목을 균일하게 매수하고, 2005-03-31 종가에 매도했을 때 평가액이 3,387만원으로 증가함을 확인했습니다."
   ]
  },
  {
   "cell_type": "code",
   "execution_count": null,
   "metadata": {},
   "outputs": [],
   "source": []
  }
 ],
 "metadata": {
  "kernelspec": {
   "display_name": "Python 3",
   "language": "python",
   "name": "python3"
  },
  "language_info": {
   "codemirror_mode": {
    "name": "ipython",
    "version": 3
   },
   "file_extension": ".py",
   "mimetype": "text/x-python",
   "name": "python",
   "nbconvert_exporter": "python",
   "pygments_lexer": "ipython3",
   "version": "3.7.5"
  }
 },
 "nbformat": 4,
 "nbformat_minor": 4
}
